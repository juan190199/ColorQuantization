{
 "cells": [
  {
   "cell_type": "markdown",
   "id": "retired-generation",
   "metadata": {},
   "source": [
    "## Color Quantization\n",
    "***"
   ]
  },
  {
   "cell_type": "code",
   "execution_count": 1,
   "id": "ordered-arrest",
   "metadata": {},
   "outputs": [],
   "source": [
    "import numpy as np\n",
    "import matplotlib.pyplot as plt\n",
    "\n",
    "from PIL import Image\n",
    "\n",
    "from histogram_quantization import HistogramQuantization\n",
    "from median_cut_quantization import MedianCutQuantization\n",
    "\n",
    "%load_ext autoreload\n",
    "%autoreload 2"
   ]
  },
  {
   "cell_type": "code",
   "execution_count": 2,
   "id": "chinese-minutes",
   "metadata": {},
   "outputs": [],
   "source": [
    "image_name = 'northern_lights'\n",
    "img = Image.open('images/' + image_name + '.jpg')\n",
    "w, h = tuple(img.size)\n",
    "d = 3\n",
    "original_shape = (w, h, d)\n",
    "img_arr = np.reshape(img, (w * h, d))\n",
    "\n",
    "buckets_per_dim = 3\n",
    "n_colors = 16"
   ]
  },
  {
   "cell_type": "code",
   "execution_count": 3,
   "id": "unnecessary-politics",
   "metadata": {},
   "outputs": [
    {
     "data": {
      "text/plain": [
       "(18823680, 3)"
      ]
     },
     "execution_count": 3,
     "metadata": {},
     "output_type": "execute_result"
    }
   ],
   "source": [
    "img_arr.shape"
   ]
  },
  {
   "cell_type": "code",
   "execution_count": 4,
   "id": "identical-gibraltar",
   "metadata": {},
   "outputs": [],
   "source": [
    "HM = HistogramQuantization(buckets_per_dim)"
   ]
  },
  {
   "cell_type": "code",
   "execution_count": 5,
   "id": "cultural-mitchell",
   "metadata": {},
   "outputs": [],
   "source": [
    "MCM = MedianCutQuantization(n_colors=n_colors)"
   ]
  },
  {
   "cell_type": "code",
   "execution_count": 6,
   "id": "relevant-setting",
   "metadata": {
    "scrolled": true
   },
   "outputs": [],
   "source": [
    "hm_quantized_img_arr = HM.fit(img_arr)"
   ]
  },
  {
   "cell_type": "code",
   "execution_count": 8,
   "id": "radio-collapse",
   "metadata": {},
   "outputs": [],
   "source": [
    "mcm_quantized_img = MCM.fit(img)"
   ]
  },
  {
   "cell_type": "code",
   "execution_count": null,
   "id": "upset-linux",
   "metadata": {},
   "outputs": [],
   "source": [
    "hm_quantized_img = hm_quantized_img_arr.reshape(orig_shape)\n",
    "mcm_quantized_img = mcm_quantized_img_arr.reshape(orig_shape)"
   ]
  },
  {
   "cell_type": "code",
   "execution_count": null,
   "id": "incredible-recycling",
   "metadata": {},
   "outputs": [],
   "source": [
    "plt.figure(1)\n",
    "plt.clf()\n",
    "plt.axis('off')\n",
    "plt.title('Original image')\n",
    "plt.imshow(img)\n",
    "\n",
    "plt.figure(2)\n",
    "plt.clf()\n",
    "plt.axis('off')\n",
    "plt.title('Quantized image ({} buckets per dimension, histogram approach)'.format(buckets_per_dim))\n",
    "plt.imsave('images/quantized_images/hm' + image_name + '.jpg', hm_quantized_img)\n",
    "plt.imshow(hm_quantized_img)\n",
    "\n",
    "plt.figure(3)\n",
    "plt.clf()\n",
    "plt.axis('off')\n",
    "plt.title('Quantized image ({} cuts, median cut approach)'.format(n_cuts))\n",
    "plt.imsave('images/quantized_images/mcm' + image_name + '.jpg', mcm_quantized_img)\n",
    "plt.imshow(mcm_quantized_img)"
   ]
  }
 ],
 "metadata": {
  "kernelspec": {
   "display_name": "Python 3",
   "language": "python",
   "name": "python3"
  }
 },
 "nbformat": 4,
 "nbformat_minor": 5
}
