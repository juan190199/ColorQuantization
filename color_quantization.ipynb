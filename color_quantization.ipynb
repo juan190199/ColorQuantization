{
 "cells": [
  {
   "cell_type": "markdown",
   "id": "magnetic-gates",
   "metadata": {},
   "source": [
    "## Color Quantization\n",
    "***"
   ]
  },
  {
   "cell_type": "code",
   "execution_count": 124,
   "id": "abstract-advance",
   "metadata": {},
   "outputs": [
    {
     "name": "stdout",
     "output_type": "stream",
     "text": [
      "The autoreload extension is already loaded. To reload it, use:\n",
      "  %reload_ext autoreload\n"
     ]
    }
   ],
   "source": [
    "import numpy as np\n",
    "import matplotlib.pyplot as plt\n",
    "\n",
    "from matplotlib import image\n",
    "\n",
    "from utils import HistogramPaletteBuilder\n",
    "\n",
    "%load_ext autoreload\n",
    "%autoreload 2"
   ]
  },
  {
   "cell_type": "code",
   "execution_count": 142,
   "id": "comic-portland",
   "metadata": {},
   "outputs": [],
   "source": [
    "img = image.imread('avila.jpg')\n",
    "w, h, d = orig_shape = tuple(img.shape)\n",
    "img_arr = np.reshape(img, (w * h, d))\n",
    "buckets_per_dim = 10"
   ]
  },
  {
   "cell_type": "code",
   "execution_count": 143,
   "id": "interesting-disabled",
   "metadata": {},
   "outputs": [],
   "source": [
    "h_model = HistogramPaletteBuilder(buckets_per_dim)"
   ]
  },
  {
   "cell_type": "code",
   "execution_count": null,
   "id": "seventh-cigarette",
   "metadata": {},
   "outputs": [],
   "source": [
    "quantized_img_arr = h_model.fit(img_arr)"
   ]
  },
  {
   "cell_type": "code",
   "execution_count": null,
   "id": "uniform-hudson",
   "metadata": {},
   "outputs": [],
   "source": [
    "quantized_img_arr = quantized_img_arr.reshape(orig_shape)"
   ]
  },
  {
   "cell_type": "code",
   "execution_count": null,
   "id": "military-southwest",
   "metadata": {},
   "outputs": [],
   "source": [
    "plt.figure(1)\n",
    "plt.clf()\n",
    "plt.axis('off')\n",
    "plt.title('Original image')\n",
    "plt.imshow(img)\n",
    "\n",
    "plt.figure(2)\n",
    "plt.clf()\n",
    "plt.axis('off')\n",
    "plt.title('Quantized image ({} buckets per dimension, histogram approach)'.format(buckets_per_dim))\n",
    "plt.imshow(quantized_img_arr)"
   ]
  }
 ],
 "metadata": {
  "kernelspec": {
   "display_name": "Python 3",
   "language": "python",
   "name": "python3"
  }
 },
 "nbformat": 4,
 "nbformat_minor": 5
}
