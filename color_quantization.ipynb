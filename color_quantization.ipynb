{
 "cells": [
  {
   "cell_type": "markdown",
   "id": "express-adolescent",
   "metadata": {},
   "source": [
    "## Color Quantization\n",
    "***"
   ]
  },
  {
   "cell_type": "code",
   "execution_count": 1,
   "id": "bearing-official",
   "metadata": {},
   "outputs": [],
   "source": [
    "import numpy as np\n",
    "import matplotlib.pyplot as plt\n",
    "\n",
    "from PIL import Image\n",
    "\n",
    "from histogram_quantization import HistogramQuantization\n",
    "from median_cut_quantization import MedianCutQuantization\n",
    "\n",
    "%load_ext autoreload\n",
    "%autoreload 2"
   ]
  },
  {
   "cell_type": "code",
   "execution_count": 2,
   "id": "mental-clone",
   "metadata": {},
   "outputs": [],
   "source": [
    "image_name = 'northern_lights'\n",
    "img = Image.open('images/' + image_name + '.jpg')\n",
    "w, h = tuple(img.size)\n",
    "d = 3\n",
    "original_shape = (w, h, d)\n",
    "img_arr = np.reshape(img, (w * h, d))\n",
    "\n",
    "buckets_per_dim = 3\n",
    "n_colors = 16"
   ]
  },
  {
   "cell_type": "code",
   "execution_count": 3,
   "id": "affiliated-costume",
   "metadata": {},
   "outputs": [],
   "source": [
    "HM = HistogramQuantization(buckets_per_dim)\n",
    "MCM = MedianCutQuantization(n_colors=n_colors)"
   ]
  },
  {
   "cell_type": "code",
   "execution_count": null,
   "id": "acute-paris",
   "metadata": {
    "scrolled": true
   },
   "outputs": [],
   "source": [
    "hm_quantized_img_arr = HM.fit(img_arr)\n",
    "mcm_quantized_img = MCM.fit(img)"
   ]
  },
  {
   "cell_type": "code",
   "execution_count": null,
   "id": "democratic-webcam",
   "metadata": {},
   "outputs": [],
   "source": [
    "hm_quantized_img = hm_quantized_img_arr.reshape(orig_shape)\n",
    "mcm_quantized_img = mcm_quantized_img_arr.reshape(orig_shape)"
   ]
  },
  {
   "cell_type": "code",
   "execution_count": null,
   "id": "concrete-occurrence",
   "metadata": {},
   "outputs": [],
   "source": [
    "plt.figure(1)\n",
    "plt.clf()\n",
    "plt.axis('off')\n",
    "plt.title('Original image')\n",
    "plt.imshow(img)\n",
    "\n",
    "plt.figure(2)\n",
    "plt.clf()\n",
    "plt.axis('off')\n",
    "plt.title('Quantized image ({} buckets per dimension, histogram approach)'.format(buckets_per_dim))\n",
    "plt.imsave('images/quantized_images/hm' + image_name + '.jpg', hm_quantized_img)\n",
    "plt.imshow(hm_quantized_img)\n",
    "\n",
    "plt.figure(3)\n",
    "plt.clf()\n",
    "plt.axis('off')\n",
    "plt.title('Quantized image ({} cuts, median cut approach)'.format(n_cuts))\n",
    "plt.imsave('images/quantized_images/mcm' + image_name + '.jpg', mcm_quantized_img)\n",
    "plt.imshow(mcm_quantized_img)"
   ]
  }
 ],
 "metadata": {
  "kernelspec": {
   "display_name": "Python 3",
   "language": "python",
   "name": "python3"
  },
  "language_info": {
   "codemirror_mode": {
    "name": "ipython",
    "version": 3
   },
   "file_extension": ".py",
   "mimetype": "text/x-python",
   "name": "python",
   "nbconvert_exporter": "python",
   "pygments_lexer": "ipython3",
   "version": "3.8.2"
  }
 },
 "nbformat": 4,
 "nbformat_minor": 5
}
